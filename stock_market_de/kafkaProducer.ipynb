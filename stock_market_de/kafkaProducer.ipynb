{
 "cells": [
  {
   "cell_type": "code",
   "execution_count": 1,
   "id": "cdaad8b4-7338-4cdb-915d-568da0152d67",
   "metadata": {},
   "outputs": [],
   "source": [
    "import pandas as pd\n",
    "from kafka import KafkaConsumer, KafkaProducer\n",
    "from time import sleep\n",
    "from json import dumps\n",
    "import json"
   ]
  },
  {
   "cell_type": "code",
   "execution_count": 2,
   "id": "a2d5bdfa-146b-47d0-a764-5ddc463a4151",
   "metadata": {},
   "outputs": [
    {
     "name": "stdout",
     "output_type": "stream",
     "text": [
      "Name: kafka-python\n",
      "Version: 2.0.2\n",
      "Summary: Pure Python client for Apache Kafka\n",
      "Home-page: https://github.com/dpkp/kafka-python\n",
      "Author: Dana Powers\n",
      "Author-email: dana.powers@gmail.com\n",
      "License: Apache License 2.0\n",
      "Location: /Users/jobdulo/opt/anaconda3/envs/gis_env/lib/python3.8/site-packages\n",
      "Requires: \n",
      "Required-by: \n"
     ]
    }
   ],
   "source": [
    "!pip show kafka-python"
   ]
  },
  {
   "cell_type": "code",
   "execution_count": 3,
   "id": "87d28fb3-61fd-4ff4-aa11-cafc83bb97d5",
   "metadata": {},
   "outputs": [],
   "source": [
    "producer = KafkaProducer(\n",
    "    bootstrap_servers=['13.49.57.109:9092'],\n",
    "    value_serializer=lambda x:dumps(x).encode('utf-8'),\n",
    "    api_version=(2, 0, 2)\n",
    ")"
   ]
  },
  {
   "cell_type": "code",
   "execution_count": 4,
   "id": "59fddd93-1b80-450f-b450-b964c2986e35",
   "metadata": {},
   "outputs": [
    {
     "data": {
      "text/plain": [
       "<kafka.producer.future.FutureRecordMetadata at 0x7fb8b8ad7f40>"
      ]
     },
     "execution_count": 4,
     "metadata": {},
     "output_type": "execute_result"
    }
   ],
   "source": [
    "producer.send('demo_test', value=\"{'what':'universe'}\")"
   ]
  },
  {
   "cell_type": "code",
   "execution_count": null,
   "id": "40bd3698-356e-414f-af13-5ee64b80adbd",
   "metadata": {},
   "outputs": [],
   "source": []
  }
 ],
 "metadata": {
  "kernelspec": {
   "display_name": "Python 3 (ipykernel)",
   "language": "python",
   "name": "python3"
  },
  "language_info": {
   "codemirror_mode": {
    "name": "ipython",
    "version": 3
   },
   "file_extension": ".py",
   "mimetype": "text/x-python",
   "name": "python",
   "nbconvert_exporter": "python",
   "pygments_lexer": "ipython3",
   "version": "3.8.12"
  }
 },
 "nbformat": 4,
 "nbformat_minor": 5
}
